{
 "cells": [
  {
   "cell_type": "code",
   "execution_count": 83,
   "metadata": {},
   "outputs": [],
   "source": [
    "import numpy as np\n",
    "import pandas as pd\n",
    "import matplotlib.pyplot as plt\n",
    "%matplotlib inline\n",
    "import seaborn as sns"
   ]
  },
  {
   "cell_type": "code",
   "execution_count": 84,
   "metadata": {},
   "outputs": [],
   "source": [
    "df=pd.read_csv('survey_responses.csv')"
   ]
  },
  {
   "cell_type": "code",
   "execution_count": 85,
   "metadata": {},
   "outputs": [
    {
     "name": "stdout",
     "output_type": "stream",
     "text": [
      "<class 'pandas.core.frame.DataFrame'>\n",
      "RangeIndex: 2958 entries, 0 to 2957\n",
      "Data columns (total 19 columns):\n",
      "Career                                                      2958 non-null object\n",
      "Citizenship                                                 2958 non-null object\n",
      "Nationality                                                 2958 non-null object\n",
      "Year since Matriculation                                    2958 non-null int64\n",
      "Year of Study                                               2958 non-null int64\n",
      "Primary Programme                                           2958 non-null object\n",
      "Gender                                                      2958 non-null object\n",
      "Department                                                  2958 non-null object\n",
      "Housing Type                                                2958 non-null object\n",
      "Q1-How many events have you Volunteered in ?                2958 non-null int64\n",
      "Q2-How many events have you Participated in ?               2958 non-null int64\n",
      "Q3-How many activities are you Interested in ?              2958 non-null int64\n",
      "Q4-How many activities are you Passionate about ?           2958 non-null int64\n",
      "Q5-What are your levels of stress ?                         2958 non-null int64\n",
      "Q6-How Satisfied You are with your Student Life ?           2958 non-null int64\n",
      "Q7-How much effort do you make to interact with others ?    2940 non-null float64\n",
      "Q8-About How events are you aware about ?                   2940 non-null float64\n",
      "response_id                                                 2958 non-null int64\n",
      "Q9-What is an ideal student life ?                          2371 non-null object\n",
      "dtypes: float64(2), int64(9), object(8)\n",
      "memory usage: 439.2+ KB\n"
     ]
    }
   ],
   "source": [
    "df.info()"
   ]
  },
  {
   "cell_type": "code",
   "execution_count": 86,
   "metadata": {},
   "outputs": [
    {
     "data": {
      "text/html": [
       "<div>\n",
       "<style scoped>\n",
       "    .dataframe tbody tr th:only-of-type {\n",
       "        vertical-align: middle;\n",
       "    }\n",
       "\n",
       "    .dataframe tbody tr th {\n",
       "        vertical-align: top;\n",
       "    }\n",
       "\n",
       "    .dataframe thead th {\n",
       "        text-align: right;\n",
       "    }\n",
       "</style>\n",
       "<table border=\"1\" class=\"dataframe\">\n",
       "  <thead>\n",
       "    <tr style=\"text-align: right;\">\n",
       "      <th></th>\n",
       "      <th>Year since Matriculation</th>\n",
       "      <th>Year of Study</th>\n",
       "      <th>Q1-How many events have you Volunteered in ?</th>\n",
       "      <th>Q2-How many events have you Participated in ?</th>\n",
       "      <th>Q3-How many activities are you Interested in ?</th>\n",
       "      <th>Q4-How many activities are you Passionate about ?</th>\n",
       "      <th>Q5-What are your levels of stress ?</th>\n",
       "      <th>Q6-How Satisfied You are with your Student Life ?</th>\n",
       "      <th>Q7-How much effort do you make to interact with others ?</th>\n",
       "      <th>Q8-About How events are you aware about ?</th>\n",
       "      <th>response_id</th>\n",
       "    </tr>\n",
       "  </thead>\n",
       "  <tbody>\n",
       "    <tr>\n",
       "      <th>count</th>\n",
       "      <td>2958.000000</td>\n",
       "      <td>2958.000000</td>\n",
       "      <td>2958.000000</td>\n",
       "      <td>2958.000000</td>\n",
       "      <td>2958.000000</td>\n",
       "      <td>2958.000000</td>\n",
       "      <td>2958.000000</td>\n",
       "      <td>2958.000000</td>\n",
       "      <td>2940.000000</td>\n",
       "      <td>2940.000000</td>\n",
       "      <td>2958.000000</td>\n",
       "    </tr>\n",
       "    <tr>\n",
       "      <th>mean</th>\n",
       "      <td>2.207235</td>\n",
       "      <td>2.206220</td>\n",
       "      <td>1.248141</td>\n",
       "      <td>1.493577</td>\n",
       "      <td>2.733942</td>\n",
       "      <td>3.184246</td>\n",
       "      <td>3.091954</td>\n",
       "      <td>1.925287</td>\n",
       "      <td>1.963265</td>\n",
       "      <td>2.082993</td>\n",
       "      <td>1479.500000</td>\n",
       "    </tr>\n",
       "    <tr>\n",
       "      <th>std</th>\n",
       "      <td>1.102763</td>\n",
       "      <td>1.099729</td>\n",
       "      <td>1.480097</td>\n",
       "      <td>0.958274</td>\n",
       "      <td>1.269236</td>\n",
       "      <td>1.969894</td>\n",
       "      <td>1.653537</td>\n",
       "      <td>0.562162</td>\n",
       "      <td>0.575096</td>\n",
       "      <td>0.642636</td>\n",
       "      <td>854.045374</td>\n",
       "    </tr>\n",
       "    <tr>\n",
       "      <th>min</th>\n",
       "      <td>1.000000</td>\n",
       "      <td>1.000000</td>\n",
       "      <td>0.000000</td>\n",
       "      <td>0.000000</td>\n",
       "      <td>1.000000</td>\n",
       "      <td>0.000000</td>\n",
       "      <td>0.000000</td>\n",
       "      <td>0.000000</td>\n",
       "      <td>0.000000</td>\n",
       "      <td>1.000000</td>\n",
       "      <td>1.000000</td>\n",
       "    </tr>\n",
       "    <tr>\n",
       "      <th>25%</th>\n",
       "      <td>1.000000</td>\n",
       "      <td>1.000000</td>\n",
       "      <td>0.000000</td>\n",
       "      <td>1.000000</td>\n",
       "      <td>2.000000</td>\n",
       "      <td>2.000000</td>\n",
       "      <td>2.000000</td>\n",
       "      <td>2.000000</td>\n",
       "      <td>2.000000</td>\n",
       "      <td>2.000000</td>\n",
       "      <td>740.250000</td>\n",
       "    </tr>\n",
       "    <tr>\n",
       "      <th>50%</th>\n",
       "      <td>2.000000</td>\n",
       "      <td>2.000000</td>\n",
       "      <td>1.000000</td>\n",
       "      <td>1.000000</td>\n",
       "      <td>3.000000</td>\n",
       "      <td>3.000000</td>\n",
       "      <td>3.000000</td>\n",
       "      <td>2.000000</td>\n",
       "      <td>2.000000</td>\n",
       "      <td>2.000000</td>\n",
       "      <td>1479.500000</td>\n",
       "    </tr>\n",
       "    <tr>\n",
       "      <th>75%</th>\n",
       "      <td>3.000000</td>\n",
       "      <td>3.000000</td>\n",
       "      <td>2.000000</td>\n",
       "      <td>2.000000</td>\n",
       "      <td>3.000000</td>\n",
       "      <td>4.000000</td>\n",
       "      <td>4.000000</td>\n",
       "      <td>2.000000</td>\n",
       "      <td>2.000000</td>\n",
       "      <td>2.000000</td>\n",
       "      <td>2218.750000</td>\n",
       "    </tr>\n",
       "    <tr>\n",
       "      <th>max</th>\n",
       "      <td>6.000000</td>\n",
       "      <td>5.000000</td>\n",
       "      <td>11.000000</td>\n",
       "      <td>5.000000</td>\n",
       "      <td>8.000000</td>\n",
       "      <td>11.000000</td>\n",
       "      <td>9.000000</td>\n",
       "      <td>3.000000</td>\n",
       "      <td>3.000000</td>\n",
       "      <td>4.000000</td>\n",
       "      <td>2958.000000</td>\n",
       "    </tr>\n",
       "  </tbody>\n",
       "</table>\n",
       "</div>"
      ],
      "text/plain": [
       "       Year since Matriculation  Year of Study  \\\n",
       "count               2958.000000    2958.000000   \n",
       "mean                   2.207235       2.206220   \n",
       "std                    1.102763       1.099729   \n",
       "min                    1.000000       1.000000   \n",
       "25%                    1.000000       1.000000   \n",
       "50%                    2.000000       2.000000   \n",
       "75%                    3.000000       3.000000   \n",
       "max                    6.000000       5.000000   \n",
       "\n",
       "       Q1-How many events have you Volunteered in ?  \\\n",
       "count                                   2958.000000   \n",
       "mean                                       1.248141   \n",
       "std                                        1.480097   \n",
       "min                                        0.000000   \n",
       "25%                                        0.000000   \n",
       "50%                                        1.000000   \n",
       "75%                                        2.000000   \n",
       "max                                       11.000000   \n",
       "\n",
       "       Q2-How many events have you Participated in ?  \\\n",
       "count                                    2958.000000   \n",
       "mean                                        1.493577   \n",
       "std                                         0.958274   \n",
       "min                                         0.000000   \n",
       "25%                                         1.000000   \n",
       "50%                                         1.000000   \n",
       "75%                                         2.000000   \n",
       "max                                         5.000000   \n",
       "\n",
       "       Q3-How many activities are you Interested in ?  \\\n",
       "count                                     2958.000000   \n",
       "mean                                         2.733942   \n",
       "std                                          1.269236   \n",
       "min                                          1.000000   \n",
       "25%                                          2.000000   \n",
       "50%                                          3.000000   \n",
       "75%                                          3.000000   \n",
       "max                                          8.000000   \n",
       "\n",
       "       Q4-How many activities are you Passionate about ?  \\\n",
       "count                                        2958.000000   \n",
       "mean                                            3.184246   \n",
       "std                                             1.969894   \n",
       "min                                             0.000000   \n",
       "25%                                             2.000000   \n",
       "50%                                             3.000000   \n",
       "75%                                             4.000000   \n",
       "max                                            11.000000   \n",
       "\n",
       "       Q5-What are your levels of stress ?  \\\n",
       "count                          2958.000000   \n",
       "mean                              3.091954   \n",
       "std                               1.653537   \n",
       "min                               0.000000   \n",
       "25%                               2.000000   \n",
       "50%                               3.000000   \n",
       "75%                               4.000000   \n",
       "max                               9.000000   \n",
       "\n",
       "       Q6-How Satisfied You are with your Student Life ?  \\\n",
       "count                                        2958.000000   \n",
       "mean                                            1.925287   \n",
       "std                                             0.562162   \n",
       "min                                             0.000000   \n",
       "25%                                             2.000000   \n",
       "50%                                             2.000000   \n",
       "75%                                             2.000000   \n",
       "max                                             3.000000   \n",
       "\n",
       "       Q7-How much effort do you make to interact with others ?  \\\n",
       "count                                        2940.000000          \n",
       "mean                                            1.963265          \n",
       "std                                             0.575096          \n",
       "min                                             0.000000          \n",
       "25%                                             2.000000          \n",
       "50%                                             2.000000          \n",
       "75%                                             2.000000          \n",
       "max                                             3.000000          \n",
       "\n",
       "       Q8-About How events are you aware about ?  response_id  \n",
       "count                                2940.000000  2958.000000  \n",
       "mean                                    2.082993  1479.500000  \n",
       "std                                     0.642636   854.045374  \n",
       "min                                     1.000000     1.000000  \n",
       "25%                                     2.000000   740.250000  \n",
       "50%                                     2.000000  1479.500000  \n",
       "75%                                     2.000000  2218.750000  \n",
       "max                                     4.000000  2958.000000  "
      ]
     },
     "execution_count": 86,
     "metadata": {},
     "output_type": "execute_result"
    }
   ],
   "source": [
    "df.describe()"
   ]
  },
  {
   "cell_type": "code",
   "execution_count": 87,
   "metadata": {},
   "outputs": [
    {
     "data": {
      "text/plain": [
       "Career                                                        0\n",
       "Citizenship                                                   0\n",
       "Nationality                                                   0\n",
       "Year since Matriculation                                      0\n",
       "Year of Study                                                 0\n",
       "Primary Programme                                             0\n",
       "Gender                                                        0\n",
       "Department                                                    0\n",
       "Housing Type                                                  0\n",
       "Q1-How many events have you Volunteered in ?                  0\n",
       "Q2-How many events have you Participated in ?                 0\n",
       "Q3-How many activities are you Interested in ?                0\n",
       "Q4-How many activities are you Passionate about ?             0\n",
       "Q5-What are your levels of stress ?                           0\n",
       "Q6-How Satisfied You are with your Student Life ?             0\n",
       "Q7-How much effort do you make to interact with others ?     18\n",
       "Q8-About How events are you aware about ?                    18\n",
       "response_id                                                   0\n",
       "Q9-What is an ideal student life ?                          587\n",
       "dtype: int64"
      ]
     },
     "execution_count": 87,
     "metadata": {},
     "output_type": "execute_result"
    }
   ],
   "source": [
    "df.isnull().sum()"
   ]
  },
  {
   "cell_type": "code",
   "execution_count": 88,
   "metadata": {},
   "outputs": [],
   "source": [
    "df['Q7-How much effort do you make to interact with others ?']=df['Q7-How much effort do you make to interact with others ?'].fillna(value=df['Q7-How much effort do you make to interact with others ?'].mean())"
   ]
  },
  {
   "cell_type": "code",
   "execution_count": 89,
   "metadata": {},
   "outputs": [],
   "source": [
    "df['Q8-About How events are you aware about ?']=df['Q8-About How events are you aware about ?'].fillna(value=df['Q8-About How events are you aware about ?'].mean())"
   ]
  },
  {
   "cell_type": "code",
   "execution_count": 90,
   "metadata": {},
   "outputs": [
    {
     "data": {
      "text/plain": [
       "Career                                                        0\n",
       "Citizenship                                                   0\n",
       "Nationality                                                   0\n",
       "Year since Matriculation                                      0\n",
       "Year of Study                                                 0\n",
       "Primary Programme                                             0\n",
       "Gender                                                        0\n",
       "Department                                                    0\n",
       "Housing Type                                                  0\n",
       "Q1-How many events have you Volunteered in ?                  0\n",
       "Q2-How many events have you Participated in ?                 0\n",
       "Q3-How many activities are you Interested in ?                0\n",
       "Q4-How many activities are you Passionate about ?             0\n",
       "Q5-What are your levels of stress ?                           0\n",
       "Q6-How Satisfied You are with your Student Life ?             0\n",
       "Q7-How much effort do you make to interact with others ?      0\n",
       "Q8-About How events are you aware about ?                     0\n",
       "response_id                                                   0\n",
       "Q9-What is an ideal student life ?                          587\n",
       "dtype: int64"
      ]
     },
     "execution_count": 90,
     "metadata": {},
     "output_type": "execute_result"
    }
   ],
   "source": [
    "df.isnull().sum()"
   ]
  },
  {
   "cell_type": "code",
   "execution_count": 91,
   "metadata": {},
   "outputs": [
    {
     "data": {
      "text/html": [
       "<div>\n",
       "<style scoped>\n",
       "    .dataframe tbody tr th:only-of-type {\n",
       "        vertical-align: middle;\n",
       "    }\n",
       "\n",
       "    .dataframe tbody tr th {\n",
       "        vertical-align: top;\n",
       "    }\n",
       "\n",
       "    .dataframe thead th {\n",
       "        text-align: right;\n",
       "    }\n",
       "</style>\n",
       "<table border=\"1\" class=\"dataframe\">\n",
       "  <thead>\n",
       "    <tr style=\"text-align: right;\">\n",
       "      <th></th>\n",
       "      <th>Year since Matriculation</th>\n",
       "      <th>Year of Study</th>\n",
       "      <th>Q1-How many events have you Volunteered in ?</th>\n",
       "      <th>Q2-How many events have you Participated in ?</th>\n",
       "      <th>Q3-How many activities are you Interested in ?</th>\n",
       "      <th>Q4-How many activities are you Passionate about ?</th>\n",
       "      <th>Q5-What are your levels of stress ?</th>\n",
       "      <th>Q6-How Satisfied You are with your Student Life ?</th>\n",
       "      <th>Q7-How much effort do you make to interact with others ?</th>\n",
       "      <th>Q8-About How events are you aware about ?</th>\n",
       "      <th>response_id</th>\n",
       "      <th>Gender_F</th>\n",
       "      <th>Gender_M</th>\n",
       "      <th>Housing Type_Halls</th>\n",
       "      <th>Housing Type_Out of Campus</th>\n",
       "      <th>Housing Type_Residences</th>\n",
       "      <th>Housing Type_Residential Colleges</th>\n",
       "    </tr>\n",
       "  </thead>\n",
       "  <tbody>\n",
       "    <tr>\n",
       "      <th>0</th>\n",
       "      <td>2</td>\n",
       "      <td>2</td>\n",
       "      <td>0</td>\n",
       "      <td>1</td>\n",
       "      <td>3</td>\n",
       "      <td>1</td>\n",
       "      <td>1</td>\n",
       "      <td>2</td>\n",
       "      <td>2.0</td>\n",
       "      <td>2.0</td>\n",
       "      <td>1</td>\n",
       "      <td>1</td>\n",
       "      <td>0</td>\n",
       "      <td>0</td>\n",
       "      <td>0</td>\n",
       "      <td>1</td>\n",
       "      <td>0</td>\n",
       "    </tr>\n",
       "    <tr>\n",
       "      <th>1</th>\n",
       "      <td>1</td>\n",
       "      <td>1</td>\n",
       "      <td>0</td>\n",
       "      <td>1</td>\n",
       "      <td>2</td>\n",
       "      <td>3</td>\n",
       "      <td>1</td>\n",
       "      <td>2</td>\n",
       "      <td>2.0</td>\n",
       "      <td>3.0</td>\n",
       "      <td>2</td>\n",
       "      <td>1</td>\n",
       "      <td>0</td>\n",
       "      <td>0</td>\n",
       "      <td>1</td>\n",
       "      <td>0</td>\n",
       "      <td>0</td>\n",
       "    </tr>\n",
       "    <tr>\n",
       "      <th>2</th>\n",
       "      <td>2</td>\n",
       "      <td>2</td>\n",
       "      <td>3</td>\n",
       "      <td>1</td>\n",
       "      <td>1</td>\n",
       "      <td>5</td>\n",
       "      <td>2</td>\n",
       "      <td>2</td>\n",
       "      <td>2.0</td>\n",
       "      <td>2.0</td>\n",
       "      <td>3</td>\n",
       "      <td>0</td>\n",
       "      <td>1</td>\n",
       "      <td>1</td>\n",
       "      <td>0</td>\n",
       "      <td>0</td>\n",
       "      <td>0</td>\n",
       "    </tr>\n",
       "    <tr>\n",
       "      <th>3</th>\n",
       "      <td>2</td>\n",
       "      <td>2</td>\n",
       "      <td>3</td>\n",
       "      <td>4</td>\n",
       "      <td>3</td>\n",
       "      <td>3</td>\n",
       "      <td>7</td>\n",
       "      <td>1</td>\n",
       "      <td>1.0</td>\n",
       "      <td>1.0</td>\n",
       "      <td>4</td>\n",
       "      <td>0</td>\n",
       "      <td>1</td>\n",
       "      <td>1</td>\n",
       "      <td>0</td>\n",
       "      <td>0</td>\n",
       "      <td>0</td>\n",
       "    </tr>\n",
       "    <tr>\n",
       "      <th>4</th>\n",
       "      <td>3</td>\n",
       "      <td>3</td>\n",
       "      <td>4</td>\n",
       "      <td>3</td>\n",
       "      <td>4</td>\n",
       "      <td>5</td>\n",
       "      <td>4</td>\n",
       "      <td>2</td>\n",
       "      <td>2.0</td>\n",
       "      <td>2.0</td>\n",
       "      <td>5</td>\n",
       "      <td>1</td>\n",
       "      <td>0</td>\n",
       "      <td>0</td>\n",
       "      <td>1</td>\n",
       "      <td>0</td>\n",
       "      <td>0</td>\n",
       "    </tr>\n",
       "  </tbody>\n",
       "</table>\n",
       "</div>"
      ],
      "text/plain": [
       "   Year since Matriculation  Year of Study  \\\n",
       "0                         2              2   \n",
       "1                         1              1   \n",
       "2                         2              2   \n",
       "3                         2              2   \n",
       "4                         3              3   \n",
       "\n",
       "   Q1-How many events have you Volunteered in ?  \\\n",
       "0                                             0   \n",
       "1                                             0   \n",
       "2                                             3   \n",
       "3                                             3   \n",
       "4                                             4   \n",
       "\n",
       "   Q2-How many events have you Participated in ?  \\\n",
       "0                                              1   \n",
       "1                                              1   \n",
       "2                                              1   \n",
       "3                                              4   \n",
       "4                                              3   \n",
       "\n",
       "   Q3-How many activities are you Interested in ?  \\\n",
       "0                                               3   \n",
       "1                                               2   \n",
       "2                                               1   \n",
       "3                                               3   \n",
       "4                                               4   \n",
       "\n",
       "   Q4-How many activities are you Passionate about ?  \\\n",
       "0                                                  1   \n",
       "1                                                  3   \n",
       "2                                                  5   \n",
       "3                                                  3   \n",
       "4                                                  5   \n",
       "\n",
       "   Q5-What are your levels of stress ?  \\\n",
       "0                                    1   \n",
       "1                                    1   \n",
       "2                                    2   \n",
       "3                                    7   \n",
       "4                                    4   \n",
       "\n",
       "   Q6-How Satisfied You are with your Student Life ?  \\\n",
       "0                                                  2   \n",
       "1                                                  2   \n",
       "2                                                  2   \n",
       "3                                                  1   \n",
       "4                                                  2   \n",
       "\n",
       "   Q7-How much effort do you make to interact with others ?  \\\n",
       "0                                                2.0          \n",
       "1                                                2.0          \n",
       "2                                                2.0          \n",
       "3                                                1.0          \n",
       "4                                                2.0          \n",
       "\n",
       "   Q8-About How events are you aware about ?  response_id  Gender_F  Gender_M  \\\n",
       "0                                        2.0            1         1         0   \n",
       "1                                        3.0            2         1         0   \n",
       "2                                        2.0            3         0         1   \n",
       "3                                        1.0            4         0         1   \n",
       "4                                        2.0            5         1         0   \n",
       "\n",
       "   Housing Type_Halls  Housing Type_Out of Campus  Housing Type_Residences  \\\n",
       "0                   0                           0                        1   \n",
       "1                   0                           1                        0   \n",
       "2                   1                           0                        0   \n",
       "3                   1                           0                        0   \n",
       "4                   0                           1                        0   \n",
       "\n",
       "   Housing Type_Residential Colleges  \n",
       "0                                  0  \n",
       "1                                  0  \n",
       "2                                  0  \n",
       "3                                  0  \n",
       "4                                  0  "
      ]
     },
     "execution_count": 91,
     "metadata": {},
     "output_type": "execute_result"
    }
   ],
   "source": [
    "obj = df.dtypes == np.object\n",
    "df.columns[obj]\n",
    "ds=df.drop(columns=['Career','Citizenship','Nationality','Primary Programme','Department','Q9-What is an ideal student life ?'])\n",
    "obj = ds.dtypes == np.object\n",
    "ds.columns[obj]\n",
    "dummydf = pd.DataFrame()\n",
    "for i in ds.columns[obj]:\n",
    "    dummy=pd.get_dummies(ds[i], drop_first=True)\n",
    "dummydf=pd.concat([dummydf, dummy], axis=1)\n",
    "ds2 = pd.get_dummies(ds, drop_first=False)\n",
    "ds2.head()"
   ]
  },
  {
   "cell_type": "code",
   "execution_count": 92,
   "metadata": {},
   "outputs": [
    {
     "data": {
      "text/plain": [
       "Year since Matriculation                                    0\n",
       "Year of Study                                               0\n",
       "Q1-How many events have you Volunteered in ?                0\n",
       "Q2-How many events have you Participated in ?               0\n",
       "Q3-How many activities are you Interested in ?              0\n",
       "Q4-How many activities are you Passionate about ?           0\n",
       "Q5-What are your levels of stress ?                         0\n",
       "Q6-How Satisfied You are with your Student Life ?           0\n",
       "Q7-How much effort do you make to interact with others ?    0\n",
       "Q8-About How events are you aware about ?                   0\n",
       "response_id                                                 0\n",
       "Gender_F                                                    0\n",
       "Gender_M                                                    0\n",
       "Housing Type_Halls                                          0\n",
       "Housing Type_Out of Campus                                  0\n",
       "Housing Type_Residences                                     0\n",
       "Housing Type_Residential Colleges                           0\n",
       "dtype: int64"
      ]
     },
     "execution_count": 92,
     "metadata": {},
     "output_type": "execute_result"
    }
   ],
   "source": [
    "ds2.isnull().sum()"
   ]
  },
  {
   "cell_type": "code",
   "execution_count": 93,
   "metadata": {},
   "outputs": [
    {
     "name": "stdout",
     "output_type": "stream",
     "text": [
      "<class 'pandas.core.frame.DataFrame'>\n",
      "RangeIndex: 2958 entries, 0 to 2957\n",
      "Data columns (total 17 columns):\n",
      "Year since Matriculation                                    2958 non-null int64\n",
      "Year of Study                                               2958 non-null int64\n",
      "Q1-How many events have you Volunteered in ?                2958 non-null int64\n",
      "Q2-How many events have you Participated in ?               2958 non-null int64\n",
      "Q3-How many activities are you Interested in ?              2958 non-null int64\n",
      "Q4-How many activities are you Passionate about ?           2958 non-null int64\n",
      "Q5-What are your levels of stress ?                         2958 non-null int64\n",
      "Q6-How Satisfied You are with your Student Life ?           2958 non-null int64\n",
      "Q7-How much effort do you make to interact with others ?    2958 non-null float64\n",
      "Q8-About How events are you aware about ?                   2958 non-null float64\n",
      "response_id                                                 2958 non-null int64\n",
      "Gender_F                                                    2958 non-null uint8\n",
      "Gender_M                                                    2958 non-null uint8\n",
      "Housing Type_Halls                                          2958 non-null uint8\n",
      "Housing Type_Out of Campus                                  2958 non-null uint8\n",
      "Housing Type_Residences                                     2958 non-null uint8\n",
      "Housing Type_Residential Colleges                           2958 non-null uint8\n",
      "dtypes: float64(2), int64(9), uint8(6)\n",
      "memory usage: 271.6 KB\n"
     ]
    }
   ],
   "source": [
    "ds2.info()"
   ]
  },
  {
   "cell_type": "markdown",
   "metadata": {},
   "source": [
    "# Predicting satisfaction levels"
   ]
  },
  {
   "cell_type": "code",
   "execution_count": 94,
   "metadata": {},
   "outputs": [
    {
     "name": "stdout",
     "output_type": "stream",
     "text": [
      "Index(['Year of Study', 'Q5-What are your levels of stress ?',\n",
      "       'Q7-How much effort do you make to interact with others ?', 'Gender_F',\n",
      "       'Gender_M', 'Housing Type_Halls', 'Housing Type_Out of Campus',\n",
      "       'Housing Type_Residences', 'Housing Type_Residential Colleges'],\n",
      "      dtype='object')\n"
     ]
    }
   ],
   "source": [
    "X = ds2.drop(['Q6-How Satisfied You are with your Student Life ?','response_id','Year since Matriculation','Q1-How many events have you Volunteered in ?','Q2-How many events have you Participated in ?','Q3-How many activities are you Interested in ?','Q4-How many activities are you Passionate about ?','Q8-About How events are you aware about ?'],axis=1)\n",
    "print(X.columns)\n",
    "X=X.values"
   ]
  },
  {
   "cell_type": "code",
   "execution_count": 95,
   "metadata": {},
   "outputs": [],
   "source": [
    "y =ds2['Q6-How Satisfied You are with your Student Life ?'].values"
   ]
  },
  {
   "cell_type": "code",
   "execution_count": 96,
   "metadata": {},
   "outputs": [],
   "source": [
    "from sklearn.model_selection import train_test_split\n",
    "X_train, X_test, y_train, y_test = train_test_split(X, y, test_size =0.5, random_state = 0)\n",
    "from sklearn.preprocessing import StandardScaler\n",
    "sc_X = StandardScaler()\n",
    "X_train = sc_X.fit_transform(X_train)\n",
    "X_test = sc_X.fit_transform(X_test)"
   ]
  },
  {
   "cell_type": "markdown",
   "metadata": {},
   "source": [
    "Random forest"
   ]
  },
  {
   "cell_type": "code",
   "execution_count": 97,
   "metadata": {},
   "outputs": [
    {
     "name": "stdout",
     "output_type": "stream",
     "text": [
      "Testing Accuracy 0.6910074374577417\n",
      "Training Accuracy 0.8025693035835023\n"
     ]
    }
   ],
   "source": [
    "from sklearn.ensemble import RandomForestClassifier\n",
    "# Creating a RAndom Forest Classifier\n",
    "clf = RandomForestClassifier(n_estimators = 40, n_jobs= 2, random_state= 2)\n",
    "# Training the Classifier\n",
    "clf.fit(X_train, y_train)\n",
    "# Applying the trained data to predict test data\n",
    "y_pred = clf.predict(X_test)\n",
    "y_pred_train=clf.predict(X_train)\n",
    "from sklearn import metrics\n",
    "from sklearn.metrics import confusion_matrix\n",
    "print('Testing Accuracy',metrics.accuracy_score(y_test, y_pred))\n",
    "print('Training Accuracy',metrics.accuracy_score(y_train, y_pred_train))"
   ]
  },
  {
   "cell_type": "markdown",
   "metadata": {},
   "source": [
    "Logistic Regression"
   ]
  },
  {
   "cell_type": "code",
   "execution_count": 98,
   "metadata": {},
   "outputs": [
    {
     "name": "stdout",
     "output_type": "stream",
     "text": [
      "Testing Accuracy 0.7275185936443543\n",
      "Training Accuracy 0.7288708586883029\n"
     ]
    }
   ],
   "source": [
    "from sklearn.linear_model import LogisticRegression\n",
    "lr = LogisticRegression()\n",
    "lr.fit(X_train, y_train)\n",
    "y_pred = lr.predict(X_test)\n",
    "y_pred_train=lr.predict(X_train)\n",
    "from sklearn import metrics\n",
    "from sklearn.metrics import confusion_matrix\n",
    "print('Testing Accuracy',metrics.accuracy_score(y_test, y_pred))\n",
    "print('Training Accuracy',metrics.accuracy_score(y_train, y_pred_train))"
   ]
  },
  {
   "cell_type": "markdown",
   "metadata": {},
   "source": [
    "Decision Trees"
   ]
  },
  {
   "cell_type": "code",
   "execution_count": 99,
   "metadata": {},
   "outputs": [
    {
     "name": "stdout",
     "output_type": "stream",
     "text": [
      "Testing Accuracy 0.676132521974307\n",
      "Training Accuracy 0.8025693035835023\n"
     ]
    }
   ],
   "source": [
    "from sklearn import tree\n",
    "dt= tree.DecisionTreeClassifier()\n",
    "dt.fit(X_train, y_train)\n",
    "y_pred = dt.predict(X_test)\n",
    "y_pred_train=dt.predict(X_train)\n",
    "from sklearn import metrics\n",
    "from sklearn.metrics import confusion_matrix\n",
    "print('Testing Accuracy',metrics.accuracy_score(y_test, y_pred))\n",
    "print('Training Accuracy',metrics.accuracy_score(y_train, y_pred_train))"
   ]
  },
  {
   "cell_type": "markdown",
   "metadata": {},
   "source": [
    "# Predicting stress levels "
   ]
  },
  {
   "cell_type": "code",
   "execution_count": 100,
   "metadata": {},
   "outputs": [
    {
     "name": "stdout",
     "output_type": "stream",
     "text": [
      "Index(['Year of Study', 'Q6-How Satisfied You are with your Student Life ?',\n",
      "       'Q7-How much effort do you make to interact with others ?', 'Gender_F',\n",
      "       'Gender_M', 'Housing Type_Halls', 'Housing Type_Out of Campus',\n",
      "       'Housing Type_Residences', 'Housing Type_Residential Colleges'],\n",
      "      dtype='object')\n"
     ]
    }
   ],
   "source": [
    "X = ds2.drop(['Q5-What are your levels of stress ?','response_id','Year since Matriculation','Q1-How many events have you Volunteered in ?','Q2-How many events have you Participated in ?','Q3-How many activities are you Interested in ?','Q4-How many activities are you Passionate about ?','Q8-About How events are you aware about ?'],axis=1)\n",
    "print(X.columns)\n",
    "X=X.values"
   ]
  },
  {
   "cell_type": "code",
   "execution_count": 101,
   "metadata": {},
   "outputs": [],
   "source": [
    "y =ds2['Q5-What are your levels of stress ?'].values"
   ]
  },
  {
   "cell_type": "code",
   "execution_count": 102,
   "metadata": {},
   "outputs": [],
   "source": [
    "from sklearn.model_selection import train_test_split\n",
    "X_train, X_test, y_train, y_test = train_test_split(X, y, test_size =0.5, random_state = 0)\n",
    "from sklearn.preprocessing import StandardScaler\n",
    "sc_X = StandardScaler()\n",
    "X_train = sc_X.fit_transform(X_train)\n",
    "X_test = sc_X.fit_transform(X_test)"
   ]
  },
  {
   "cell_type": "markdown",
   "metadata": {},
   "source": [
    "Random forest "
   ]
  },
  {
   "cell_type": "code",
   "execution_count": 103,
   "metadata": {},
   "outputs": [
    {
     "name": "stdout",
     "output_type": "stream",
     "text": [
      "Testing Accuracy 0.24002704530087898\n",
      "Training Accuracy 0.40973630831643004\n"
     ]
    }
   ],
   "source": [
    "from sklearn.ensemble import RandomForestClassifier\n",
    "# Creating a RAndom Forest Classifier\n",
    "clf = RandomForestClassifier(n_estimators = 40, n_jobs= 2, random_state= 2)\n",
    "# Training the Classifier\n",
    "clf.fit(X_train, y_train)\n",
    "# Applying the trained data to predict test data\n",
    "y_pred = clf.predict(X_test)\n",
    "y_pred_train=clf.predict(X_train)\n",
    "print('Testing Accuracy',metrics.accuracy_score(y_test, y_pred))\n",
    "print('Training Accuracy',metrics.accuracy_score(y_train, y_pred_train))"
   ]
  },
  {
   "cell_type": "markdown",
   "metadata": {},
   "source": [
    "Logistic Regression"
   ]
  },
  {
   "cell_type": "code",
   "execution_count": 104,
   "metadata": {},
   "outputs": [
    {
     "name": "stdout",
     "output_type": "stream",
     "text": [
      "Testing Accuracy 0.2839756592292089\n",
      "Training Accuracy 0.27586206896551724\n"
     ]
    }
   ],
   "source": [
    "from sklearn.linear_model import LogisticRegression\n",
    "lr = LogisticRegression()\n",
    "lr.fit(X_train, y_train)\n",
    "y_pred = lr.predict(X_test)\n",
    "y_pred_train=lr.predict(X_train)\n",
    "from sklearn import metrics\n",
    "from sklearn.metrics import confusion_matrix\n",
    "print('Testing Accuracy',metrics.accuracy_score(y_test, y_pred))\n",
    "print('Training Accuracy',metrics.accuracy_score(y_train, y_pred_train))"
   ]
  },
  {
   "cell_type": "markdown",
   "metadata": {},
   "source": [
    "Decision Trees"
   ]
  },
  {
   "cell_type": "code",
   "execution_count": 105,
   "metadata": {},
   "outputs": [
    {
     "name": "stdout",
     "output_type": "stream",
     "text": [
      "Testing Accuracy 0.24543610547667344\n",
      "Training Accuracy 0.41041244083840434\n"
     ]
    }
   ],
   "source": [
    "from sklearn import tree\n",
    "dt= tree.DecisionTreeClassifier()\n",
    "dt.fit(X_train, y_train)\n",
    "y_pred = dt.predict(X_test)\n",
    "y_pred_train=dt.predict(X_train)\n",
    "from sklearn import metrics\n",
    "from sklearn.metrics import confusion_matrix\n",
    "print('Testing Accuracy',metrics.accuracy_score(y_test, y_pred))\n",
    "print('Training Accuracy',metrics.accuracy_score(y_train, y_pred_train))"
   ]
  },
  {
   "cell_type": "code",
   "execution_count": null,
   "metadata": {},
   "outputs": [],
   "source": []
  }
 ],
 "metadata": {
  "kernelspec": {
   "display_name": "Python 3",
   "language": "python",
   "name": "python3"
  },
  "language_info": {
   "codemirror_mode": {
    "name": "ipython",
    "version": 3
   },
   "file_extension": ".py",
   "mimetype": "text/x-python",
   "name": "python",
   "nbconvert_exporter": "python",
   "pygments_lexer": "ipython3",
   "version": "3.7.3"
  }
 },
 "nbformat": 4,
 "nbformat_minor": 2
}
